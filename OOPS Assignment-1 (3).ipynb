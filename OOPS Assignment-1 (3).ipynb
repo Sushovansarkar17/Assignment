{
 "cells": [
  {
   "cell_type": "markdown",
   "id": "37f4aee1-7fa9-490a-81e8-fb9303d81a82",
   "metadata": {},
   "source": [
    "Q1."
   ]
  },
  {
   "cell_type": "markdown",
   "id": "28043bf3-cd36-43de-8830-e701a813200e",
   "metadata": {},
   "source": [
    "In object-oriented programming (OOP), a class is a blueprint for creating objects. It defines the object's data (attributes) and behavior (methods). An object is an instance of a class. It has the data and behavior defined by its class.\n",
    "\n",
    "\n",
    "# For example, a class called Car might define the following attributes:\n",
    "        * make\n",
    "        * model\n",
    "        * year\n",
    "        * color\n",
    "        * mileage\n",
    "        \n",
    "        \n",
    "# It might also define the following methods:\n",
    "\n",
    "        * startEngine()\n",
    "        * stopEngine()\n",
    "        * accelerate()\n",
    "        * brake()"
   ]
  },
  {
   "cell_type": "markdown",
   "id": "76f89e45-fc7a-49bc-89fc-0f90c9a68c75",
   "metadata": {},
   "source": [
    "Q2"
   ]
  },
  {
   "cell_type": "markdown",
   "id": "fdca645c-6c68-45a2-ba86-dae9c5021bee",
   "metadata": {},
   "source": [
    " In object-oriented programming (OOP), a class is a blueprint for creating objects. It defines the object's data (attributes) and behavior (methods). An object is an instance of a class. It has the data and behavior defined by its class."
   ]
  },
  {
   "cell_type": "markdown",
   "id": "fd128a29-bcda-4f56-843d-132c9d6ec865",
   "metadata": {},
   "source": [
    "# Name of the four pillars of OOPs is \n",
    " \n",
    "    1.Abstraction\n",
    "    2.Encapsulation\n",
    "    3.Inheritance\n",
    "    4.Polymorphism\n",
    "    "
   ]
  },
  {
   "cell_type": "markdown",
   "id": "fe524296-413d-4804-bfaa-68458cd5638e",
   "metadata": {},
   "source": [
    "Q3."
   ]
  },
  {
   "cell_type": "markdown",
   "id": "483a03ba-0bbc-49ae-8b88-f3136b1c2aa0",
   "metadata": {},
   "source": [
    "The __init__() function is used to initialize the attributes of an object when it is created. It is called automatically when an object is created from a class. The __init__() function is a special method in Python, and it cannot be called directly.\n",
    "\n",
    "#Here is an example of a __init__() function:\n",
    "    \n",
    "    class Person:\n",
    "    def __init__(self, name, age):\n",
    "        self.name = name\n",
    "        self.age = age\n",
    "\n",
    "\n",
    "     "
   ]
  },
  {
   "cell_type": "markdown",
   "id": "2b879046-12e3-4446-a704-dbb5b90c0bc5",
   "metadata": {},
   "source": [
    "Q4"
   ]
  },
  {
   "cell_type": "markdown",
   "id": "8b630831-26bc-4802-9bd2-ab89475bfb8e",
   "metadata": {},
   "source": [
    "\n",
    "The 'self' keyword is used in object-oriented programming (OOP) to refer to the current instance of the class. It is used to access the attributes and methods of the class. In Python, self is always the first parameter in a method definition.\n",
    "\n",
    "Here are some additional reasons why self is used in OOP:\n",
    "\n",
    "To distinguish between local variables and instance variables.\n",
    "To allow methods to access the attributes and methods of the class.\n",
    "To make code more readable and maintainable.\n",
    "To enforce encapsulation"
   ]
  },
  {
   "cell_type": "markdown",
   "id": "6203c74e-f248-43b0-90c7-81f5e8ea5dd0",
   "metadata": {},
   "source": [
    "Q5"
   ]
  },
  {
   "cell_type": "markdown",
   "id": "48fa7554-f4cc-439f-9603-84b364107179",
   "metadata": {},
   "source": [
    "Inheritance is the ability of a class to inherit the properties and methods of another class. This allows for code reuse and makes it easier to create new classes.\n",
    "\n",
    "# types of inheritance:(3)\n",
    "         1.Single inheritance\n",
    "         2.Multiple inheritance\n",
    "         3.Hybrid inheritance"
   ]
  },
  {
   "cell_type": "code",
   "execution_count": null,
   "id": "23e23e23-d439-45b6-bb56-19e955d60a5d",
   "metadata": {},
   "outputs": [],
   "source": []
  }
 ],
 "metadata": {
  "kernelspec": {
   "display_name": "Python 3 (ipykernel)",
   "language": "python",
   "name": "python3"
  },
  "language_info": {
   "codemirror_mode": {
    "name": "ipython",
    "version": 3
   },
   "file_extension": ".py",
   "mimetype": "text/x-python",
   "name": "python",
   "nbconvert_exporter": "python",
   "pygments_lexer": "ipython3",
   "version": "3.10.8"
  }
 },
 "nbformat": 4,
 "nbformat_minor": 5
}
